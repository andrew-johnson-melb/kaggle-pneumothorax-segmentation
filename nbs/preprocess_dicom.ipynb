{
 "cells": [
  {
   "cell_type": "code",
   "execution_count": 4,
   "metadata": {},
   "outputs": [],
   "source": [
    "\n",
    "#pip install pydicom\n",
    "#!pip install kaggle\n",
    "#!kaggle competitions download -c siim-acr-pneumothorax-segmentation # TEST data\n",
    "#!kaggle datasets download -d seesee/siim-train-test # Full dataset\n",
    "# Update kaggle creds\n",
    "#! nano /home/ec2-user/.kaggle/kaggle.json\n"
   ]
  },
  {
   "cell_type": "code",
   "execution_count": 37,
   "metadata": {},
   "outputs": [
    {
     "name": "stdout",
     "output_type": "stream",
     "text": [
      "The autoreload extension is already loaded. To reload it, use:\n",
      "  %reload_ext autoreload\n"
     ]
    }
   ],
   "source": [
    "\n",
    "SRC_FILES = '/home/ec2-user/SageMaker/seg_project/src'\n",
    "\n",
    "import sys\n",
    "import numpy as np \n",
    "import pandas as pd \n",
    "from glob import glob\n",
    "import pydicom\n",
    "import os\n",
    "from tqdm import tqdm\n",
    "from pathlib import Path\n",
    "import cv2\n",
    "\n",
    "sys.path.append(SRC_FILES)\n",
    "from mask_functions import rle2mask, mask2rle\n",
    "from preprocessing import PreprocessorImages\n",
    "\n",
    "%load_ext autoreload\n",
    "%autoreload 2\n",
    "\n",
    "BUCKET = 'pneumothorax-segmentation-dateset'\n",
    "DCM_TRAIN_DIR = '/home/ec2-user/SageMaker/seg_project/data/raw_data/siim/dicom-images-train'\n",
    "DCM_TEST_DIR = '/home/ec2-user/SageMaker/seg_project/data/raw_data/siim/dicom-images-test'\n",
    "META_DATA_PATH = '/home/ec2-user/SageMaker/seg_project/data/meta_data_siim.csv'\n"
   ]
  },
  {
   "cell_type": "code",
   "execution_count": 3,
   "metadata": {},
   "outputs": [],
   "source": [
    "# load raw data from s3. \n",
    "#!aws s3 cp s3://pneumothorax-segmentation-dateset/dicom-images /home/ec2-user/SageMaker/data/raw_data/dicom-images --recursive\n",
    "#!aws s3 cp s3://pneumothorax-segmentation-dateset/dicom-images/train-rle.csv ./data/raw_data/train-rle.csv\n"
   ]
  },
  {
   "cell_type": "code",
   "execution_count": 32,
   "metadata": {},
   "outputs": [],
   "source": [
    "\n",
    "# Get a list of all the train and test files\n",
    "train_files = sorted(glob(f'{DCM_TRAIN_DIR}/*/*/*.dcm'))\n",
    "test_files = sorted(glob(f'{DCM_TEST_DIR}/*/*/*.dcm'))\n",
    "                        "
   ]
  },
  {
   "cell_type": "code",
   "execution_count": 33,
   "metadata": {},
   "outputs": [
    {
     "name": "stdout",
     "output_type": "stream",
     "text": [
      " Example file = /home/ec2-user/SageMaker/seg_project/data/raw_data/siim/dicom-images-train/1.2.276.0.7230010.3.1.2.8323329.1000.1517875165.878026/1.2.276.0.7230010.3.1.3.8323329.1000.1517875165.878025/1.2.276.0.7230010.3.1.4.8323329.1000.1517875165.878027.dcm\n"
     ]
    }
   ],
   "source": [
    "\n",
    "print(f' Example file = {train_files[0]}')\n"
   ]
  },
  {
   "cell_type": "code",
   "execution_count": 38,
   "metadata": {},
   "outputs": [
    {
     "name": "stderr",
     "output_type": "stream",
     "text": [
      "  0%|          | 6/12089 [00:00<03:53, 51.74it/s]"
     ]
    },
    {
     "name": "stdout",
     "output_type": "stream",
     "text": [
      "Running on the training set..\n"
     ]
    },
    {
     "name": "stderr",
     "output_type": "stream",
     "text": [
      "100%|██████████| 12089/12089 [04:02<00:00, 49.82it/s]\n",
      "  0%|          | 8/3205 [00:00<00:41, 76.98it/s]"
     ]
    },
    {
     "name": "stdout",
     "output_type": "stream",
     "text": [
      "Running on the test set...\n"
     ]
    },
    {
     "name": "stderr",
     "output_type": "stream",
     "text": [
      "100%|██████████| 3205/3205 [00:41<00:00, 77.79it/s]\n"
     ]
    }
   ],
   "source": [
    "\n",
    "preprocessor = PreprocessorImages(resize_dim=256)\n",
    "preprocessor.run(train_files, test_files, )\n"
   ]
  },
  {
   "cell_type": "code",
   "execution_count": 40,
   "metadata": {},
   "outputs": [
    {
     "data": {
      "text/plain": [
       "(15294, 8)"
      ]
     },
     "execution_count": 40,
     "metadata": {},
     "output_type": "execute_result"
    }
   ],
   "source": [
    "# Let have a look at the meta data\n",
    "meta_data = preprocessor.get_meta_data()\n",
    "meta_data.shape\n"
   ]
  },
  {
   "cell_type": "code",
   "execution_count": 41,
   "metadata": {},
   "outputs": [],
   "source": [
    "# Save the computed meta data for analysis\n",
    "meta_data.to_csv(META_DATA_PATH)\n"
   ]
  },
  {
   "cell_type": "code",
   "execution_count": 318,
   "metadata": {},
   "outputs": [],
   "source": [
    "# Save data to s3 \n",
    "#!aws s3 cp ./data s3://pneumothorax-segmentation-dateset/data --recursive\n"
   ]
  },
  {
   "cell_type": "code",
   "execution_count": null,
   "metadata": {},
   "outputs": [],
   "source": []
  }
 ],
 "metadata": {
  "kernelspec": {
   "display_name": "conda_pytorch_latest_p36",
   "language": "python",
   "name": "conda_pytorch_latest_p36"
  },
  "language_info": {
   "codemirror_mode": {
    "name": "ipython",
    "version": 3
   },
   "file_extension": ".py",
   "mimetype": "text/x-python",
   "name": "python",
   "nbconvert_exporter": "python",
   "pygments_lexer": "ipython3",
   "version": "3.6.10"
  }
 },
 "nbformat": 4,
 "nbformat_minor": 4
}
