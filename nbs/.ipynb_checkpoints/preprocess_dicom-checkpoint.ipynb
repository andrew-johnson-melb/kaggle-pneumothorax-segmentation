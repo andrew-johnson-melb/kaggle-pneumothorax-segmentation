{
 "cells": [
  {
   "cell_type": "code",
   "execution_count": 4,
   "metadata": {},
   "outputs": [],
   "source": [
    "\n",
    "#pip install pydicom\n",
    "#!pip install kaggle\n",
    "#!kaggle competitions download -c siim-acr-pneumothorax-segmentation # TEST data\n",
    "#!kaggle datasets download -d seesee/siim-train-test # Full dataset\n",
    "# Update kaggle creds\n",
    "#! nano /home/ec2-user/.kaggle/kaggle.json\n"
   ]
  },
  {
   "cell_type": "code",
   "execution_count": 30,
   "metadata": {},
   "outputs": [
    {
     "name": "stdout",
     "output_type": "stream",
     "text": [
      "The autoreload extension is already loaded. To reload it, use:\n",
      "  %reload_ext autoreload\n"
     ]
    }
   ],
   "source": [
    "\n",
    "SRC_FILES = '/home/ec2-user/SageMaker/seg_project/src'\n",
    "\n",
    "import sys\n",
    "import numpy as np \n",
    "import pandas as pd \n",
    "from glob import glob\n",
    "import pydicom\n",
    "import os\n",
    "from tqdm import tqdm\n",
    "from pathlib import Path\n",
    "import cv2\n",
    "\n",
    "sys.path.append(SRC_FILES)\n",
    "from mask_functions import rle2mask, mask2rle\n",
    "from preprocessing import PreprocessorImages\n",
    "\n",
    "%load_ext autoreload\n",
    "%autoreload 2\n",
    "\n",
    "BUCKET = 'pneumothorax-segmentation-dateset'\n",
    "DCM_TRAIN_DIR = '/home/ec2-user/SageMaker/seg_project/data/raw_data/siim/dicom-images-train'\n",
    "DCM_TEST_DIR = '/home/ec2-user/SageMaker/seg_project/data/raw_data/siim/dicom-images-test'\n",
    "META_DATA_PATH = '/home/ec2-user/SageMaker/seg_project/data/meta_data_siim.csv'\n"
   ]
  },
  {
   "cell_type": "code",
   "execution_count": 3,
   "metadata": {},
   "outputs": [],
   "source": [
    "# load raw data from s3. \n",
    "#!aws s3 cp s3://pneumothorax-segmentation-dateset/dicom-images /home/ec2-user/SageMaker/data/raw_data/dicom-images --recursive\n",
    "#!aws s3 cp s3://pneumothorax-segmentation-dateset/dicom-images/train-rle.csv ./data/raw_data/train-rle.csv\n"
   ]
  },
  {
   "cell_type": "code",
   "execution_count": 22,
   "metadata": {},
   "outputs": [],
   "source": [
    "\n",
    "# Get a list of all the train and test files\n",
    "train_files = sorted(glob(f'{DCM_TRAIN_DIR}/*/*/*.dcm'))\n",
    "test_files = sorted(glob(f'{DCM_TEST_DIR}/*/*/*.dcm'))\n",
    "                        "
   ]
  },
  {
   "cell_type": "code",
   "execution_count": 23,
   "metadata": {},
   "outputs": [
    {
     "name": "stdout",
     "output_type": "stream",
     "text": [
      " Example file = /home/ec2-user/SageMaker/seg_project/data/raw_data/siim/dicom-images-train/1.2.276.0.7230010.3.1.2.8323329.1000.1517875165.878026/1.2.276.0.7230010.3.1.3.8323329.1000.1517875165.878025/1.2.276.0.7230010.3.1.4.8323329.1000.1517875165.878027.dcm\n"
     ]
    }
   ],
   "source": [
    "\n",
    "print(f' Example file = {train_files[0]}')\n"
   ]
  },
  {
   "cell_type": "code",
   "execution_count": 24,
   "metadata": {},
   "outputs": [
    {
     "name": "stderr",
     "output_type": "stream",
     "text": [
      "  0%|          | 5/12089 [00:00<04:17, 46.92it/s]"
     ]
    },
    {
     "name": "stdout",
     "output_type": "stream",
     "text": [
      "Running on the training set..\n"
     ]
    },
    {
     "name": "stderr",
     "output_type": "stream",
     "text": [
      "100%|██████████| 12089/12089 [04:17<00:00, 47.02it/s]\n",
      "  0%|          | 8/3205 [00:00<00:41, 76.34it/s]"
     ]
    },
    {
     "name": "stdout",
     "output_type": "stream",
     "text": [
      "Running on the test set...\n"
     ]
    },
    {
     "name": "stderr",
     "output_type": "stream",
     "text": [
      "100%|██████████| 3205/3205 [00:42<00:00, 75.51it/s]\n"
     ]
    }
   ],
   "source": [
    "\n",
    "preprocessor = PreprocessorImages()\n",
    "preprocessor.run(train_files, test_files)\n"
   ]
  },
  {
   "cell_type": "code",
   "execution_count": 26,
   "metadata": {},
   "outputs": [
    {
     "data": {
      "text/html": [
       "<div>\n",
       "<style scoped>\n",
       "    .dataframe tbody tr th:only-of-type {\n",
       "        vertical-align: middle;\n",
       "    }\n",
       "\n",
       "    .dataframe tbody tr th {\n",
       "        vertical-align: top;\n",
       "    }\n",
       "\n",
       "    .dataframe thead th {\n",
       "        text-align: right;\n",
       "    }\n",
       "</style>\n",
       "<table border=\"1\" class=\"dataframe\">\n",
       "  <thead>\n",
       "    <tr style=\"text-align: right;\">\n",
       "      <th></th>\n",
       "      <th>PatientAge</th>\n",
       "      <th>PatientID</th>\n",
       "      <th>PatientSex</th>\n",
       "      <th>PatientOrientation</th>\n",
       "      <th>ViewPosition</th>\n",
       "      <th>label</th>\n",
       "      <th>train_set</th>\n",
       "      <th>file_name</th>\n",
       "    </tr>\n",
       "  </thead>\n",
       "  <tbody>\n",
       "    <tr>\n",
       "      <th>0</th>\n",
       "      <td>38</td>\n",
       "      <td>17d405a3-a0d2-4901-b33a-63906aa48d9f</td>\n",
       "      <td>M</td>\n",
       "      <td></td>\n",
       "      <td>PA</td>\n",
       "      <td>no-region</td>\n",
       "      <td>True</td>\n",
       "      <td>1.2.276.0.7230010.3.1.4.8323329.1000.151787516...</td>\n",
       "    </tr>\n",
       "    <tr>\n",
       "      <th>1</th>\n",
       "      <td>10</td>\n",
       "      <td>8ab1ffda-8b65-4914-95d6-2e549e328666</td>\n",
       "      <td>F</td>\n",
       "      <td></td>\n",
       "      <td>AP</td>\n",
       "      <td>no-region</td>\n",
       "      <td>True</td>\n",
       "      <td>1.2.276.0.7230010.3.1.4.8323329.10000.15178752...</td>\n",
       "    </tr>\n",
       "    <tr>\n",
       "      <th>2</th>\n",
       "      <td>50</td>\n",
       "      <td>bfef51d3-6541-4792-bac1-d21d41ee60fd</td>\n",
       "      <td>F</td>\n",
       "      <td></td>\n",
       "      <td>AP</td>\n",
       "      <td>no-region</td>\n",
       "      <td>True</td>\n",
       "      <td>1.2.276.0.7230010.3.1.4.8323329.10001.15178752...</td>\n",
       "    </tr>\n",
       "    <tr>\n",
       "      <th>3</th>\n",
       "      <td>68</td>\n",
       "      <td>d19d956f-4ddd-4688-81ff-909c85e0e2d9</td>\n",
       "      <td>F</td>\n",
       "      <td></td>\n",
       "      <td>AP</td>\n",
       "      <td>no-region</td>\n",
       "      <td>True</td>\n",
       "      <td>1.2.276.0.7230010.3.1.4.8323329.10002.15178752...</td>\n",
       "    </tr>\n",
       "    <tr>\n",
       "      <th>4</th>\n",
       "      <td>65</td>\n",
       "      <td>cf71a760-f693-4ccf-acd4-a41ff4845a5f</td>\n",
       "      <td>M</td>\n",
       "      <td></td>\n",
       "      <td>AP</td>\n",
       "      <td>no-region</td>\n",
       "      <td>True</td>\n",
       "      <td>1.2.276.0.7230010.3.1.4.8323329.10003.15178752...</td>\n",
       "    </tr>\n",
       "  </tbody>\n",
       "</table>\n",
       "</div>"
      ],
      "text/plain": [
       "  PatientAge                             PatientID PatientSex  \\\n",
       "0         38  17d405a3-a0d2-4901-b33a-63906aa48d9f          M   \n",
       "1         10  8ab1ffda-8b65-4914-95d6-2e549e328666          F   \n",
       "2         50  bfef51d3-6541-4792-bac1-d21d41ee60fd          F   \n",
       "3         68  d19d956f-4ddd-4688-81ff-909c85e0e2d9          F   \n",
       "4         65  cf71a760-f693-4ccf-acd4-a41ff4845a5f          M   \n",
       "\n",
       "  PatientOrientation ViewPosition      label  train_set  \\\n",
       "0                              PA  no-region       True   \n",
       "1                              AP  no-region       True   \n",
       "2                              AP  no-region       True   \n",
       "3                              AP  no-region       True   \n",
       "4                              AP  no-region       True   \n",
       "\n",
       "                                           file_name  \n",
       "0  1.2.276.0.7230010.3.1.4.8323329.1000.151787516...  \n",
       "1  1.2.276.0.7230010.3.1.4.8323329.10000.15178752...  \n",
       "2  1.2.276.0.7230010.3.1.4.8323329.10001.15178752...  \n",
       "3  1.2.276.0.7230010.3.1.4.8323329.10002.15178752...  \n",
       "4  1.2.276.0.7230010.3.1.4.8323329.10003.15178752...  "
      ]
     },
     "execution_count": 26,
     "metadata": {},
     "output_type": "execute_result"
    }
   ],
   "source": [
    "# Let have a look at the meta data\n",
    "meta_data = preprocessor.get_meta_data()\n",
    "meta_data.head()\n"
   ]
  },
  {
   "cell_type": "code",
   "execution_count": 28,
   "metadata": {},
   "outputs": [],
   "source": [
    "# Save the computed meta data for analysis\n",
    "meta_data.to_csv(META_DATA_PATH)\n"
   ]
  },
  {
   "cell_type": "code",
   "execution_count": 318,
   "metadata": {},
   "outputs": [],
   "source": [
    "# Save data to s3 \n",
    "#!aws s3 cp ./data s3://pneumothorax-segmentation-dateset/data --recursive\n"
   ]
  },
  {
   "cell_type": "code",
   "execution_count": null,
   "metadata": {},
   "outputs": [],
   "source": []
  }
 ],
 "metadata": {
  "kernelspec": {
   "display_name": "conda_pytorch_latest_p36",
   "language": "python",
   "name": "conda_pytorch_latest_p36"
  },
  "language_info": {
   "codemirror_mode": {
    "name": "ipython",
    "version": 3
   },
   "file_extension": ".py",
   "mimetype": "text/x-python",
   "name": "python",
   "nbconvert_exporter": "python",
   "pygments_lexer": "ipython3",
   "version": "3.6.10"
  }
 },
 "nbformat": 4,
 "nbformat_minor": 4
}
